{
 "cells": [
  {
   "cell_type": "markdown",
   "metadata": {},
   "source": [
    "# Import Data\n",
    "\n",
    "**Authors:** Christopher Sun, Jai Sharma, Milind Maiti\n",
    "\n",
    "**Date:** 2022.06.16\n",
    "\n",
    "**Description:** This module imports the data from the IEEE dataport data set equivalent on Kaggle. The file paths shown here are meant to be with respect to the Kaggle notebooks interface."
   ]
  },
  {
   "cell_type": "markdown",
   "metadata": {},
   "source": [
    "## Import Libraries"
   ]
  },
  {
   "cell_type": "code",
   "execution_count": 1,
   "metadata": {
    "_cell_guid": "b1076dfc-b9ad-4769-8c92-a6c4dae69d19",
    "_uuid": "8f2839f25d086af736a60e9eeb907d3b93b6e0e5",
    "execution": {
     "iopub.execute_input": "2022-06-17T00:23:26.364962Z",
     "iopub.status.busy": "2022-06-17T00:23:26.363896Z",
     "iopub.status.idle": "2022-06-17T00:23:33.582716Z",
     "shell.execute_reply": "2022-06-17T00:23:33.581714Z",
     "shell.execute_reply.started": "2022-06-17T00:23:26.364833Z"
    },
    "scrolled": true
   },
   "outputs": [],
   "source": [
    "# Import necessary libraries\n",
    "import cv2\n",
    "import math\n",
    "import numpy as np\n",
    "import pandas as pd\n",
    "import tensorflow as tf\n",
    "from tensorflow import keras\n",
    "from tensorflow.keras import layers, callbacks, Sequential, Model\n",
    "from tensorflow.keras.layers import Dropout, BatchNormalization, Activation, Dense, Input\n",
    "from tensorflow.keras.layers import Conv2D, MaxPool2D, Flatten\n",
    "import pickle\n",
    "import pandas as pd\n",
    "import matplotlib.pyplot as plt\n",
    "from skimage import io\n",
    "import skimage\n",
    "import json\n",
    "import os\n",
    "\n",
    "# Print Confirmation\n",
    "print(\"Setup Complete\")"
   ]
  },
  {
   "cell_type": "markdown",
   "metadata": {},
   "source": [
    "## Find File Paths"
   ]
  },
  {
   "cell_type": "code",
   "execution_count": 3,
   "metadata": {
    "execution": {
     "iopub.execute_input": "2022-06-17T00:23:43.055009Z",
     "iopub.status.busy": "2022-06-17T00:23:43.054252Z",
     "iopub.status.idle": "2022-06-17T00:23:43.503601Z",
     "shell.execute_reply": "2022-06-17T00:23:43.502785Z",
     "shell.execute_reply.started": "2022-06-17T00:23:43.054959Z"
    }
   },
   "outputs": [],
   "source": [
    "# Gets all of the file paths to the j2k RGB images, tif pixelwise elevation \n",
    "# masks, and the json files with the labels for each example\n",
    "path = \"../input/nga-overhead-geopose/geopose_train/geopose_train\"\n",
    "\n",
    "file_names = os.listdir(path)\n",
    "file_names.sort()\n",
    "tif_files = []\n",
    "j2k_files = []\n",
    "json_files = []\n",
    "\n",
    "for i in file_names:\n",
    "    if i[-3:] == \"tif\":\n",
    "        tif_files.append(i)\n",
    "    elif i[-3:] == \"j2k\":\n",
    "        j2k_files.append(i)\n",
    "    else:\n",
    "        json_files.append(i)\n",
    "\n",
    "j2k_files = sorted(j2k_files)\n",
    "json_files = sorted(json_files)\n",
    "tif_files = sorted(tif_files)"
   ]
  },
  {
   "cell_type": "markdown",
   "metadata": {},
   "source": [
    "## Get Labels for Geopose Model"
   ]
  },
  {
   "cell_type": "code",
   "execution_count": 13,
   "metadata": {
    "execution": {
     "iopub.execute_input": "2022-06-17T00:28:19.291509Z",
     "iopub.status.busy": "2022-06-17T00:28:19.291212Z",
     "iopub.status.idle": "2022-06-17T00:28:35.618212Z",
     "shell.execute_reply": "2022-06-17T00:28:35.617458Z",
     "shell.execute_reply.started": "2022-06-17T00:28:19.291479Z"
    }
   },
   "outputs": [],
   "source": [
    "# Get the scale and angle labels from the json files\n",
    "df = []\n",
    "\n",
    "for i in range(len(json_files)):\n",
    "    temp = open(path + \"/\" + json_files[i])\n",
    "    data = json.load(temp)\n",
    "    df.append(data)\n",
    "\n",
    "scale = [i[\"scale\"] for i in df]\n",
    "angle = [i[\"angle\"] for i in df]\n",
    "y = pd.DataFrame({\"scale\": scale, \"angle\": angle})\n",
    "y_np = np.array(y)"
   ]
  },
  {
   "cell_type": "markdown",
   "metadata": {},
   "source": [
    "## Get RGB Images and Elevation Masks"
   ]
  },
  {
   "cell_type": "code",
   "execution_count": null,
   "metadata": {
    "_kg_hide-input": false,
    "scrolled": true
   },
   "outputs": [],
   "source": [
    "# Get the j2k RGB satellite images and the tif pixelwise elevation masks and \n",
    "# adjust the size to comply with computational restraints\n",
    "dim = (256,256)\n",
    "X = []\n",
    "tifs = []\n",
    "num_images = len(tif_files)\n",
    "for i in range(0, num_images):\n",
    "    img = np.array(skimage.io.imread(path + \"/\" + j2k_files[i]))\n",
    "    mask = np.array(skimage.io.imread(path + \"/\" + tif_files[i]))\n",
    "    resize_img = cv2.resize(img, dim, interpolation = cv2.INTER_AREA)\n",
    "    resize_mask = cv2.resize(mask, dim, interpolation = cv2.INTER_AREA)\n",
    "    X.append(resize_img)\n",
    "    tifs.append(resize_mask)\n",
    "    \n",
    "X = np.array(X)\n",
    "tifs = np.array(tifs)"
   ]
  }
 ],
 "metadata": {
  "kernelspec": {
   "display_name": "Python 3",
   "language": "python",
   "name": "python3"
  },
  "language_info": {
   "codemirror_mode": {
    "name": "ipython",
    "version": 3
   },
   "file_extension": ".py",
   "mimetype": "text/x-python",
   "name": "python",
   "nbconvert_exporter": "python",
   "pygments_lexer": "ipython3",
   "version": "3.8.8"
  }
 },
 "nbformat": 4,
 "nbformat_minor": 4
}
