{
 "cells": [
  {
   "cell_type": "markdown",
   "metadata": {},
   "source": [
    "# Geocentric Pose\n",
    "\n",
    "**Authors:** Christopher Sun, Jai Sharma, Milind Maiti\n",
    "\n",
    "**Date:** 2022.06.16\n",
    "\n",
    "**Description:** This module concerns the task of predicting the Geocentric Pose of a satellite given the j2k RGB image taken from that satellite. The tasks here include:\n",
    "\n",
    "1. Import the j2k images, pixelwise elevation tifs (which have been interpolated), and the scale and angle labels.\n",
    "2. Build and train the Geocentric Pose Deep Learning model.\n",
    "3. Vizualize learning curves for the model trained in number (2). \n",
    "4. Find the $R^2$ score for the scale and angle predictions."
   ]
  },
  {
   "cell_type": "markdown",
   "metadata": {},
   "source": [
    "## Import Libraries and Data"
   ]
  },
  {
   "cell_type": "code",
   "execution_count": null,
   "metadata": {
    "execution": {
     "iopub.execute_input": "2022-06-06T23:17:14.664082Z",
     "iopub.status.busy": "2022-06-06T23:17:14.663512Z",
     "iopub.status.idle": "2022-06-06T23:17:22.789658Z",
     "shell.execute_reply": "2022-06-06T23:17:22.788598Z",
     "shell.execute_reply.started": "2022-06-06T23:17:14.664045Z"
    }
   },
   "outputs": [],
   "source": [
    "import pandas as pd\n",
    "import numpy as np\n",
    "import matplotlib.pyplot as plt\n",
    "import matplotlib as mpl\n",
    "from matplotlib.pyplot import figure\n",
    "from mpl_toolkits import mplot3d\n",
    "import tensorflow as tf\n",
    "from tensorflow import keras\n",
    "from tensorflow.keras import layers, callbacks, Sequential, Input, Model\n",
    "from tensorflow.keras.layers import *\n",
    "from sklearn.cluster import KMeans\n",
    "from sklearn.model_selection import train_test_split\n",
    "import math\n",
    "import scipy\n",
    "import pickle\n",
    "import gc \n",
    "from IPython.display import display\n",
    "\n",
    "# Print Confirmation\n",
    "print(\"Setup Complete\")"
   ]
  },
  {
   "cell_type": "code",
   "execution_count": 2,
   "metadata": {
    "execution": {
     "iopub.execute_input": "2022-06-06T23:17:27.534406Z",
     "iopub.status.busy": "2022-06-06T23:17:27.534079Z",
     "iopub.status.idle": "2022-06-06T23:17:52.66826Z",
     "shell.execute_reply": "2022-06-06T23:17:52.667223Z",
     "shell.execute_reply.started": "2022-06-06T23:17:27.534346Z"
    }
   },
   "outputs": [],
   "source": [
    "# Import Data\n",
    "j2ks = pickle.load(open(\"/kaggle/input/geocentric-pose-analysis-of-satellite-imagery/j2k_imgs.dat\", \"rb\"))\n",
    "tifs = pickle.load(open(\"/kaggle/input/geocentric-pose-analysis-of-satellite-imagery/new_tifs.dat\", \"rb\"))\n",
    "y = pickle.load(open(\"/kaggle/input/geocentric-pose-analysis-of-satellite-imagery/y.dat\", \"rb\"))\n",
    "\n",
    "# Normalize Scale Values\n",
    "y[:,0] = y[:,0] * 1e3\n",
    "\n",
    "# X values\n",
    "X = j2ks"
   ]
  },
  {
   "cell_type": "markdown",
   "metadata": {},
   "source": [
    "## Define and Train Geocentric Pose Model"
   ]
  },
  {
   "cell_type": "code",
   "execution_count": null,
   "metadata": {
    "execution": {
     "iopub.execute_input": "2022-06-06T23:25:45.366262Z",
     "iopub.status.busy": "2022-06-06T23:25:45.365968Z",
     "iopub.status.idle": "2022-06-06T23:25:45.389537Z",
     "shell.execute_reply": "2022-06-06T23:25:45.388441Z",
     "shell.execute_reply.started": "2022-06-06T23:25:45.366229Z"
    }
   },
   "outputs": [],
   "source": [
    "# Geocentric Pose model\n",
    "def build_model():\n",
    "    inputs = Input(shape=(256,256,3))\n",
    "    initializer = tf.keras.initializers.GlorotNormal(seed=1)\n",
    "    x = Conv2D(32, (5,5), padding=\"same\", kernel_initializer=initializer)(inputs)\n",
    "    x = BatchNormalization()(x)\n",
    "    x = Activation(\"relu\")(x)\n",
    "    \n",
    "    x = Conv2D(32, (5,5), padding=\"same\", kernel_initializer=initializer)(x)\n",
    "    x = BatchNormalization()(x)\n",
    "    x = Activation(\"relu\")(x)\n",
    "    x = MaxPooling2D((3,3), strides=2)(x)\n",
    "    \n",
    "    x = Conv2D(64, (5,5), padding=\"same\", kernel_initializer=initializer)(x)\n",
    "    x = BatchNormalization()(x)\n",
    "    x = Activation(\"relu\")(x)   \n",
    "    \n",
    "    x = Conv2D(64, (5,5), padding=\"same\", kernel_initializer=initializer)(x)\n",
    "    x = BatchNormalization()(x)\n",
    "    x = Activation(\"relu\")(x)  \n",
    "    x = MaxPooling2D((3,3), strides=2)(x)\n",
    "  \n",
    "    x = Conv2D(128, (5,5), padding=\"same\", kernel_initializer=initializer)(x)\n",
    "    x = BatchNormalization()(x)\n",
    "    x = Activation(\"relu\")(x)\n",
    "    \n",
    "    x = Conv2D(128, (5,5), padding=\"same\", kernel_initializer=initializer)(x)\n",
    "    x = BatchNormalization()(x)\n",
    "    x = Activation(\"relu\")(x) \n",
    "    x = MaxPooling2D((3,3), strides=2)(x)\n",
    "   \n",
    "    x = Conv2D(256, (5,5), padding=\"same\", kernel_initializer=initializer)(x)\n",
    "    x = BatchNormalization()(x)\n",
    "    x = Activation(\"relu\")(x)\n",
    "    x = MaxPooling2D((3,3), strides=2)(x)\n",
    "    \n",
    "    x = Conv2D(256, (5,5), padding=\"same\", kernel_initializer=initializer)(x)\n",
    "    x = BatchNormalization()(x)\n",
    "    x = Activation(\"relu\")(x)\n",
    "    x = MaxPooling2D((3,3), strides=2)(x)\n",
    "\n",
    "    x = Flatten()(x)\n",
    "    x = Dense(300)(x)\n",
    "    x = Activation(\"relu\")(x)\n",
    "\n",
    "    x = Dense(150)(x)\n",
    "    x = Activation(\"relu\")(x)\n",
    "    \n",
    "    x = Dense(50)(x)\n",
    "    x = Activation(\"relu\")(x)\n",
    "    \n",
    "    x = Dense(16)(x)\n",
    "    x = Activation(\"relu\")(x)\n",
    "    \n",
    "    x = Dense(8)(x)\n",
    "    x = Activation(\"relu\")(x)\n",
    "    x = Dense(2)(x)\n",
    "    \n",
    "    outputs = Activation(\"relu\")(x)\n",
    "    model = Model(inputs, outputs)\n",
    "    \n",
    "    return model"
   ]
  },
  {
   "cell_type": "code",
   "execution_count": null,
   "metadata": {
    "execution": {
     "iopub.execute_input": "2022-06-06T23:25:48.673602Z",
     "iopub.status.busy": "2022-06-06T23:25:48.673122Z",
     "iopub.status.idle": "2022-06-06T23:25:49.11233Z",
     "shell.execute_reply": "2022-06-06T23:25:49.111298Z",
     "shell.execute_reply.started": "2022-06-06T23:25:48.673564Z"
    }
   },
   "outputs": [],
   "source": [
    "# Build and Compile the model\n",
    "model = build_model() \n",
    "model.compile(optimizer=\"adam\", loss=\"mae\", metrics=[\"mse\"])"
   ]
  },
  {
   "cell_type": "code",
   "execution_count": null,
   "metadata": {
    "execution": {
     "iopub.execute_input": "2022-06-06T23:25:49.114748Z",
     "iopub.status.busy": "2022-06-06T23:25:49.114421Z",
     "iopub.status.idle": "2022-06-06T23:25:49.152303Z",
     "shell.execute_reply": "2022-06-06T23:25:49.151232Z",
     "shell.execute_reply.started": "2022-06-06T23:25:49.114711Z"
    }
   },
   "outputs": [],
   "source": [
    "# View the model architecture summary\n",
    "model.summary()"
   ]
  },
  {
   "cell_type": "code",
   "execution_count": null,
   "metadata": {
    "execution": {
     "iopub.execute_input": "2022-06-06T23:24:10.092935Z",
     "iopub.status.busy": "2022-06-06T23:24:10.09252Z",
     "iopub.status.idle": "2022-06-06T23:24:10.518125Z",
     "shell.execute_reply": "2022-06-06T23:24:10.517127Z",
     "shell.execute_reply.started": "2022-06-06T23:24:10.092886Z"
    }
   },
   "outputs": [],
   "source": [
    "# Split data into train and validation sets\n",
    "X_t, X_v, y_t, y_v = train_test_split(X, y, test_size=0.2, random_state=0)"
   ]
  },
  {
   "cell_type": "code",
   "execution_count": null,
   "metadata": {
    "execution": {
     "iopub.execute_input": "2022-06-06T23:25:54.155394Z",
     "iopub.status.busy": "2022-06-06T23:25:54.154593Z",
     "iopub.status.idle": "2022-06-07T01:57:01.624907Z",
     "shell.execute_reply": "2022-06-07T01:57:01.623339Z",
     "shell.execute_reply.started": "2022-06-06T23:25:54.155327Z"
    }
   },
   "outputs": [],
   "source": [
    "# Train Geocentric Pose model\n",
    "model.fit(X_t, y_t, validation_data=(X_v, y_v), epochs=500)"
   ]
  },
  {
   "cell_type": "markdown",
   "metadata": {},
   "source": [
    "## Calculate Metrics\n",
    "\n",
    "Here are the results for the U-Net model:\n",
    "\n",
    "**Train $R^2$ for scale:** 0.9903\n",
    "\n",
    "**Train $R^2$ for angle:** 0.9910\n",
    "\n",
    "**Validation $R^2$ for scale:**   0.9238\n",
    "\n",
    "**Validation $R^2$ for angle:**   0.9625"
   ]
  },
  {
   "cell_type": "code",
   "execution_count": null,
   "metadata": {
    "execution": {
     "iopub.execute_input": "2022-06-07T01:57:06.696699Z",
     "iopub.status.busy": "2022-06-07T01:57:06.69636Z",
     "iopub.status.idle": "2022-06-07T01:57:09.149704Z",
     "shell.execute_reply": "2022-06-07T01:57:09.148689Z",
     "shell.execute_reply.started": "2022-06-07T01:57:06.696666Z"
    }
   },
   "outputs": [],
   "source": [
    "# Find R^2 metrics for Scale and Angle\n",
    "train_pred = model.predict(X_t)\n",
    "pred = model.predict(X_v)\n",
    "\n",
    "def r_squared_scale(true, pred):\n",
    "    R2 = 1 - np.sum((true[:,0] - pred[:,0])**2)/np.sum((true[:,0] - np.mean(true[:,0]))**2)\n",
    "    \n",
    "    return R2\n",
    "\n",
    "def r_squared_angle(true, pred):\n",
    "    lst = []\n",
    "    for i in range(pred[:,1].shape[0]):\n",
    "        error = np.abs(pred[i,1] - true[i,1])\n",
    "        if 6.28 - error < error:\n",
    "            lst.append(6.28 - error)\n",
    "        else:\n",
    "            lst.append(error)\n",
    "    \n",
    "    R2 = 1 - np.sum((np.array(lst))**2)/np.sum((true[:,1] - np.mean(true[:,1]))**2)\n",
    "    \n",
    "    return R2"
   ]
  },
  {
   "cell_type": "code",
   "execution_count": null,
   "metadata": {},
   "outputs": [],
   "source": [
    "print(\"R^2 for scale for train: \" + str(r_squared_scale(y_t, train_pred)))\n",
    "print(\"R^2 for angle for train: \" + str(r_squared_angle(y_t, train_pred)))\n",
    "print(\"R^2 for scale for validation: \" + str(r_squared_scale(y_v, pred)))\n",
    "print(\"R^2 for angle for validation: \" + str(r_squared_angle(y_v, pred)))"
   ]
  }
 ],
 "metadata": {
  "kernelspec": {
   "display_name": "Python 3",
   "language": "python",
   "name": "python3"
  },
  "language_info": {
   "codemirror_mode": {
    "name": "ipython",
    "version": 3
   },
   "file_extension": ".py",
   "mimetype": "text/x-python",
   "name": "python",
   "nbconvert_exporter": "python",
   "pygments_lexer": "ipython3",
   "version": "3.8.8"
  }
 },
 "nbformat": 4,
 "nbformat_minor": 4
}
